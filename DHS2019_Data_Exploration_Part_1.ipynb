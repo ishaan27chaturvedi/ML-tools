{
 "cells": [
  {
   "cell_type": "markdown",
   "metadata": {},
   "source": [
    "---\n",
    "---\n",
    "\n",
    "## DHS2019 DATA EXPLORATION PART 1\n",
    "\n",
    "---\n",
    "---\n",
    "\n",
    "\n",
    "#### PROBLEM STATEMENT\n",
    "\n",
    "An online question and answer platform has hired you as a data scientist to identify the best question authors on the platform. This identification will bring more insight into increasing the user engagement. Given the tag of the question, number of views received, number of answers, username and reputation of the question author, the problem requires you to predict the upvote count that the question will receive. \n",
    "\n",
    "___\n",
    "\n",
    "#### DATA DICTIONARY\n",
    "\n",
    "|**Variable** | **Definition** |\n",
    "|---|---|\n",
    "| **ID** | Question ID |\n",
    "| **Tag** | Anonymised tags representing question category |\n",
    "| **Reputation** |\tReputation score of question author |\n",
    "| **Answers** |\tNumber of times question has been answered |\n",
    "| **Username** |\tAnonymised user id of question author |\n",
    "| **Views** |\tNumber of times question has been viewed |\n",
    "| **Upvotes** |\t(Target) Number of upvotes for the question |\n",
    "\n",
    "---\n",
    "\n",
    "***Dataset URL: https://datahack.analyticsvidhya.com/contest/workshop_enigma-codefest-machine-learning/***\n"
   ]
  },
  {
   "cell_type": "code",
   "execution_count": 1,
   "metadata": {},
   "outputs": [],
   "source": [
    "# importing the required libraries\n",
    "import pandas as pd\n",
    "import numpy as np\n",
    "import matplotlib.pyplot as plt\n",
    "import seaborn as sns\n",
    "%matplotlib inline\n",
    "\n",
    "pd.options.display.max_columns = 100"
   ]
  },
  {
   "cell_type": "code",
   "execution_count": 2,
   "metadata": {},
   "outputs": [
    {
     "name": "stdout",
     "output_type": "stream",
     "text": [
      "(330045, 7)\n"
     ]
    },
    {
     "data": {
      "text/html": [
       "<div>\n",
       "<style scoped>\n",
       "    .dataframe tbody tr th:only-of-type {\n",
       "        vertical-align: middle;\n",
       "    }\n",
       "\n",
       "    .dataframe tbody tr th {\n",
       "        vertical-align: top;\n",
       "    }\n",
       "\n",
       "    .dataframe thead th {\n",
       "        text-align: right;\n",
       "    }\n",
       "</style>\n",
       "<table border=\"1\" class=\"dataframe\">\n",
       "  <thead>\n",
       "    <tr style=\"text-align: right;\">\n",
       "      <th></th>\n",
       "      <th>ID</th>\n",
       "      <th>Tag</th>\n",
       "      <th>Reputation</th>\n",
       "      <th>Answers</th>\n",
       "      <th>Username</th>\n",
       "      <th>Views</th>\n",
       "      <th>Upvotes</th>\n",
       "    </tr>\n",
       "  </thead>\n",
       "  <tbody>\n",
       "    <tr>\n",
       "      <td>0</td>\n",
       "      <td>52664</td>\n",
       "      <td>a</td>\n",
       "      <td>3942.0</td>\n",
       "      <td>2.0</td>\n",
       "      <td>155623</td>\n",
       "      <td>7855.0</td>\n",
       "      <td>42.0</td>\n",
       "    </tr>\n",
       "    <tr>\n",
       "      <td>1</td>\n",
       "      <td>327662</td>\n",
       "      <td>a</td>\n",
       "      <td>26046.0</td>\n",
       "      <td>12.0</td>\n",
       "      <td>21781</td>\n",
       "      <td>55801.0</td>\n",
       "      <td>1175.0</td>\n",
       "    </tr>\n",
       "    <tr>\n",
       "      <td>2</td>\n",
       "      <td>468453</td>\n",
       "      <td>c</td>\n",
       "      <td>1358.0</td>\n",
       "      <td>4.0</td>\n",
       "      <td>56177</td>\n",
       "      <td>8067.0</td>\n",
       "      <td>60.0</td>\n",
       "    </tr>\n",
       "    <tr>\n",
       "      <td>3</td>\n",
       "      <td>96996</td>\n",
       "      <td>a</td>\n",
       "      <td>264.0</td>\n",
       "      <td>3.0</td>\n",
       "      <td>168793</td>\n",
       "      <td>27064.0</td>\n",
       "      <td>9.0</td>\n",
       "    </tr>\n",
       "    <tr>\n",
       "      <td>4</td>\n",
       "      <td>131465</td>\n",
       "      <td>c</td>\n",
       "      <td>4271.0</td>\n",
       "      <td>4.0</td>\n",
       "      <td>112223</td>\n",
       "      <td>13986.0</td>\n",
       "      <td>83.0</td>\n",
       "    </tr>\n",
       "  </tbody>\n",
       "</table>\n",
       "</div>"
      ],
      "text/plain": [
       "       ID Tag  Reputation  Answers  Username    Views  Upvotes\n",
       "0   52664   a      3942.0      2.0    155623   7855.0     42.0\n",
       "1  327662   a     26046.0     12.0     21781  55801.0   1175.0\n",
       "2  468453   c      1358.0      4.0     56177   8067.0     60.0\n",
       "3   96996   a       264.0      3.0    168793  27064.0      9.0\n",
       "4  131465   c      4271.0      4.0    112223  13986.0     83.0"
      ]
     },
     "execution_count": 2,
     "metadata": {},
     "output_type": "execute_result"
    }
   ],
   "source": [
    "# read the train dataset \n",
    "train_df = pd.read_csv(\"dataset/upvote_count/train_NIR5Yl1.csv\")\n",
    "print(train_df.shape)\n",
    "train_df.head()"
   ]
  },
  {
   "cell_type": "code",
   "execution_count": 3,
   "metadata": {},
   "outputs": [
    {
     "name": "stdout",
     "output_type": "stream",
     "text": [
      "(141448, 6)\n"
     ]
    },
    {
     "data": {
      "text/html": [
       "<div>\n",
       "<style scoped>\n",
       "    .dataframe tbody tr th:only-of-type {\n",
       "        vertical-align: middle;\n",
       "    }\n",
       "\n",
       "    .dataframe tbody tr th {\n",
       "        vertical-align: top;\n",
       "    }\n",
       "\n",
       "    .dataframe thead th {\n",
       "        text-align: right;\n",
       "    }\n",
       "</style>\n",
       "<table border=\"1\" class=\"dataframe\">\n",
       "  <thead>\n",
       "    <tr style=\"text-align: right;\">\n",
       "      <th></th>\n",
       "      <th>ID</th>\n",
       "      <th>Tag</th>\n",
       "      <th>Reputation</th>\n",
       "      <th>Answers</th>\n",
       "      <th>Username</th>\n",
       "      <th>Views</th>\n",
       "    </tr>\n",
       "  </thead>\n",
       "  <tbody>\n",
       "    <tr>\n",
       "      <td>0</td>\n",
       "      <td>366953</td>\n",
       "      <td>a</td>\n",
       "      <td>5645.0</td>\n",
       "      <td>3.0</td>\n",
       "      <td>50652</td>\n",
       "      <td>33200.0</td>\n",
       "    </tr>\n",
       "    <tr>\n",
       "      <td>1</td>\n",
       "      <td>71864</td>\n",
       "      <td>c</td>\n",
       "      <td>24511.0</td>\n",
       "      <td>6.0</td>\n",
       "      <td>37685</td>\n",
       "      <td>2730.0</td>\n",
       "    </tr>\n",
       "    <tr>\n",
       "      <td>2</td>\n",
       "      <td>141692</td>\n",
       "      <td>i</td>\n",
       "      <td>927.0</td>\n",
       "      <td>1.0</td>\n",
       "      <td>135293</td>\n",
       "      <td>21167.0</td>\n",
       "    </tr>\n",
       "    <tr>\n",
       "      <td>3</td>\n",
       "      <td>316833</td>\n",
       "      <td>i</td>\n",
       "      <td>21.0</td>\n",
       "      <td>6.0</td>\n",
       "      <td>166998</td>\n",
       "      <td>18528.0</td>\n",
       "    </tr>\n",
       "    <tr>\n",
       "      <td>4</td>\n",
       "      <td>440445</td>\n",
       "      <td>i</td>\n",
       "      <td>4475.0</td>\n",
       "      <td>10.0</td>\n",
       "      <td>53504</td>\n",
       "      <td>57240.0</td>\n",
       "    </tr>\n",
       "  </tbody>\n",
       "</table>\n",
       "</div>"
      ],
      "text/plain": [
       "       ID Tag  Reputation  Answers  Username    Views\n",
       "0  366953   a      5645.0      3.0     50652  33200.0\n",
       "1   71864   c     24511.0      6.0     37685   2730.0\n",
       "2  141692   i       927.0      1.0    135293  21167.0\n",
       "3  316833   i        21.0      6.0    166998  18528.0\n",
       "4  440445   i      4475.0     10.0     53504  57240.0"
      ]
     },
     "execution_count": 3,
     "metadata": {},
     "output_type": "execute_result"
    }
   ],
   "source": [
    "# read the test dataset\n",
    "test_df = pd.read_csv(\"dataset/upvote_count/test_8i3B3FC.csv\")\n",
    "print(test_df.shape)\n",
    "test_df.head()"
   ]
  },
  {
   "cell_type": "markdown",
   "metadata": {},
   "source": [
    "---\n",
    "\n",
    "#### Explore the Target Variable\n",
    "\n",
    "---"
   ]
  },
  {
   "cell_type": "code",
   "execution_count": 4,
   "metadata": {},
   "outputs": [
    {
     "data": {
      "image/png": "[encoded data removed]",
      "text/plain": [
       "<Figure size 720x576 with 1 Axes>"
      ]
     },
     "metadata": {
      "needs_background": "light"
     },
     "output_type": "display_data"
    }
   ],
   "source": [
    "### EXERCISE-1\n",
    "## Create a scatter plot and histogram plot to visualize the target ##\n",
    "## ##\n",
    "plt.figure(figsize=(10,8))\n",
    "plt.scatter(range(train_df.shape[0]), np.sort(train_df[\"Upvotes\"].values))\n",
    "plt.xlabel('index', fontsize=12)\n",
    "plt.ylabel('upvotes', fontsize=12)\n",
    "plt.show()"
   ]
  },
  {
   "cell_type": "code",
   "execution_count": 5,
   "metadata": {},
   "outputs": [
    {
     "data": {
      "image/png": "[encoded data removed]",
      "text/plain": [
       "<Figure size 720x576 with 1 Axes>"
      ]
     },
     "metadata": {
      "needs_background": "light"
     },
     "output_type": "display_data"
    }
   ],
   "source": [
    "plt.figure(figsize=(10,8))\n",
    "sns.distplot(np.log1p(train_df[\"Upvotes\"].values), bins=10, kde=False)\n",
    "plt.xlabel('log of upvotes', fontsize=12)\n",
    "plt.show()"
   ]
  },
  {
   "cell_type": "markdown",
   "metadata": {},
   "source": [
    "---\n",
    "\n",
    "#### Correlation of the target with Numerical variables\n",
    "\n",
    "---"
   ]
  },
  {
   "cell_type": "code",
   "execution_count": 6,
   "metadata": {},
   "outputs": [
    {
     "data": {
      "text/html": [
       "<div>\n",
       "<style scoped>\n",
       "    .dataframe tbody tr th:only-of-type {\n",
       "        vertical-align: middle;\n",
       "    }\n",
       "\n",
       "    .dataframe tbody tr th {\n",
       "        vertical-align: top;\n",
       "    }\n",
       "\n",
       "    .dataframe thead th {\n",
       "        text-align: right;\n",
       "    }\n",
       "</style>\n",
       "<table border=\"1\" class=\"dataframe\">\n",
       "  <thead>\n",
       "    <tr style=\"text-align: right;\">\n",
       "      <th></th>\n",
       "      <th>Reputation</th>\n",
       "      <th>Answers</th>\n",
       "      <th>Views</th>\n",
       "      <th>Upvotes</th>\n",
       "    </tr>\n",
       "  </thead>\n",
       "  <tbody>\n",
       "    <tr>\n",
       "      <td>Reputation</td>\n",
       "      <td>1.000000</td>\n",
       "      <td>0.066504</td>\n",
       "      <td>0.036455</td>\n",
       "      <td>0.266710</td>\n",
       "    </tr>\n",
       "    <tr>\n",
       "      <td>Answers</td>\n",
       "      <td>0.066504</td>\n",
       "      <td>1.000000</td>\n",
       "      <td>0.498642</td>\n",
       "      <td>0.202033</td>\n",
       "    </tr>\n",
       "    <tr>\n",
       "      <td>Views</td>\n",
       "      <td>0.036455</td>\n",
       "      <td>0.498642</td>\n",
       "      <td>1.000000</td>\n",
       "      <td>0.437336</td>\n",
       "    </tr>\n",
       "    <tr>\n",
       "      <td>Upvotes</td>\n",
       "      <td>0.266710</td>\n",
       "      <td>0.202033</td>\n",
       "      <td>0.437336</td>\n",
       "      <td>1.000000</td>\n",
       "    </tr>\n",
       "  </tbody>\n",
       "</table>\n",
       "</div>"
      ],
      "text/plain": [
       "            Reputation   Answers     Views   Upvotes\n",
       "Reputation    1.000000  0.066504  0.036455  0.266710\n",
       "Answers       0.066504  1.000000  0.498642  0.202033\n",
       "Views         0.036455  0.498642  1.000000  0.437336\n",
       "Upvotes       0.266710  0.202033  0.437336  1.000000"
      ]
     },
     "execution_count": 6,
     "metadata": {},
     "output_type": "execute_result"
    }
   ],
   "source": [
    "### EXERCISE-2\n",
    "### create a correlation matrix of the target variable with the numerical variables\n",
    "corrmat = train_df[['Reputation', 'Answers', 'Views', 'Upvotes']].corr()\n",
    "corrmat"
   ]
  },
  {
   "cell_type": "code",
   "execution_count": 7,
   "metadata": {},
   "outputs": [
    {
     "data": {
      "text/plain": [
       "(4.0, 0.0)"
      ]
     },
     "execution_count": 7,
     "metadata": {},
     "output_type": "execute_result"
    },
    {
     "data": {
      "image/png": "[encoded data removed]",
      "text/plain": [
       "<Figure size 720x576 with 2 Axes>"
      ]
     },
     "metadata": {
      "needs_background": "light"
     },
     "output_type": "display_data"
    }
   ],
   "source": [
    "plt.figure(figsize=(10,8))\n",
    "ax = sns.heatmap(corrmat, annot=True, );\n",
    "bottom, top = ax.get_ylim()\n",
    "ax.set_ylim(bottom + 0.5, top - 0.5)"
   ]
  },
  {
   "cell_type": "markdown",
   "metadata": {},
   "source": [
    "### Categorical Variable Exploration\n",
    "\n",
    "Create a bar plot and check the number of rows for each category of 'Tag'"
   ]
  },
  {
   "cell_type": "code",
   "execution_count": 8,
   "metadata": {},
   "outputs": [
    {
     "data": {
      "image/png": "[encoded data removed]",
      "text/plain": [
       "<Figure size 576x288 with 1 Axes>"
      ]
     },
     "metadata": {
      "needs_background": "light"
     },
     "output_type": "display_data"
    }
   ],
   "source": [
    "### EXERCISE-3\n",
    "# on train data\n",
    "cnt_srs = train_df['Tag'].value_counts()\n",
    "plt.figure(figsize=(8,4))\n",
    "sns.barplot(cnt_srs.index, cnt_srs.values, alpha=0.8)\n",
    "plt.ylabel('Number of Occurrences', fontsize=12)\n",
    "plt.xlabel('Tag', fontsize=12)\n",
    "plt.show()"
   ]
  },
  {
   "cell_type": "code",
   "execution_count": 9,
   "metadata": {},
   "outputs": [
    {
     "data": {
      "image/png": "[encoded data removed]",
      "text/plain": [
       "<Figure size 576x288 with 1 Axes>"
      ]
     },
     "metadata": {
      "needs_background": "light"
     },
     "output_type": "display_data"
    }
   ],
   "source": [
    "# on test data\n",
    "cnt_srs = test_df['Tag'].value_counts()\n",
    "plt.figure(figsize=(8,4))\n",
    "sns.barplot(cnt_srs.index, cnt_srs.values, alpha=0.8)\n",
    "plt.ylabel('Number of Occurrences', fontsize=12)\n",
    "plt.xlabel('Tag', fontsize=12)\n",
    "plt.show()"
   ]
  },
  {
   "cell_type": "code",
   "execution_count": 10,
   "metadata": {},
   "outputs": [
    {
     "data": {
      "text/html": [
       "<div>\n",
       "<style scoped>\n",
       "    .dataframe tbody tr th:only-of-type {\n",
       "        vertical-align: middle;\n",
       "    }\n",
       "\n",
       "    .dataframe tbody tr th {\n",
       "        vertical-align: top;\n",
       "    }\n",
       "\n",
       "    .dataframe thead th {\n",
       "        text-align: right;\n",
       "    }\n",
       "</style>\n",
       "<table border=\"1\" class=\"dataframe\">\n",
       "  <thead>\n",
       "    <tr style=\"text-align: right;\">\n",
       "      <th></th>\n",
       "      <th>Reputation</th>\n",
       "      <th>Answers</th>\n",
       "      <th>Views</th>\n",
       "      <th>Upvotes</th>\n",
       "    </tr>\n",
       "  </thead>\n",
       "  <tbody>\n",
       "    <tr>\n",
       "      <td>86457</td>\n",
       "      <td>491244.0</td>\n",
       "      <td>39.0</td>\n",
       "      <td>1815987.0</td>\n",
       "      <td>615278.0</td>\n",
       "    </tr>\n",
       "    <tr>\n",
       "      <td>323367</td>\n",
       "      <td>361277.0</td>\n",
       "      <td>20.0</td>\n",
       "      <td>1011323.0</td>\n",
       "      <td>588966.0</td>\n",
       "    </tr>\n",
       "    <tr>\n",
       "      <td>43972</td>\n",
       "      <td>287981.0</td>\n",
       "      <td>21.0</td>\n",
       "      <td>1225923.0</td>\n",
       "      <td>483995.0</td>\n",
       "    </tr>\n",
       "    <tr>\n",
       "      <td>37080</td>\n",
       "      <td>518066.0</td>\n",
       "      <td>32.0</td>\n",
       "      <td>1068171.0</td>\n",
       "      <td>460447.0</td>\n",
       "    </tr>\n",
       "    <tr>\n",
       "      <td>55806</td>\n",
       "      <td>90911.0</td>\n",
       "      <td>29.0</td>\n",
       "      <td>4417626.0</td>\n",
       "      <td>445709.0</td>\n",
       "    </tr>\n",
       "    <tr>\n",
       "      <td>18636</td>\n",
       "      <td>163511.0</td>\n",
       "      <td>20.0</td>\n",
       "      <td>1331067.0</td>\n",
       "      <td>360073.0</td>\n",
       "    </tr>\n",
       "    <tr>\n",
       "      <td>206485</td>\n",
       "      <td>287981.0</td>\n",
       "      <td>21.0</td>\n",
       "      <td>1225935.0</td>\n",
       "      <td>317555.0</td>\n",
       "    </tr>\n",
       "    <tr>\n",
       "      <td>164943</td>\n",
       "      <td>518091.0</td>\n",
       "      <td>19.0</td>\n",
       "      <td>380058.0</td>\n",
       "      <td>308308.0</td>\n",
       "    </tr>\n",
       "    <tr>\n",
       "      <td>303013</td>\n",
       "      <td>91541.0</td>\n",
       "      <td>41.0</td>\n",
       "      <td>2447579.0</td>\n",
       "      <td>296862.0</td>\n",
       "    </tr>\n",
       "    <tr>\n",
       "      <td>146919</td>\n",
       "      <td>89433.0</td>\n",
       "      <td>14.0</td>\n",
       "      <td>2662604.0</td>\n",
       "      <td>286529.0</td>\n",
       "    </tr>\n",
       "  </tbody>\n",
       "</table>\n",
       "</div>"
      ],
      "text/plain": [
       "        Reputation  Answers      Views   Upvotes\n",
       "86457     491244.0     39.0  1815987.0  615278.0\n",
       "323367    361277.0     20.0  1011323.0  588966.0\n",
       "43972     287981.0     21.0  1225923.0  483995.0\n",
       "37080     518066.0     32.0  1068171.0  460447.0\n",
       "55806      90911.0     29.0  4417626.0  445709.0\n",
       "18636     163511.0     20.0  1331067.0  360073.0\n",
       "206485    287981.0     21.0  1225935.0  317555.0\n",
       "164943    518091.0     19.0   380058.0  308308.0\n",
       "303013     91541.0     41.0  2447579.0  296862.0\n",
       "146919     89433.0     14.0  2662604.0  286529.0"
      ]
     },
     "execution_count": 10,
     "metadata": {},
     "output_type": "execute_result"
    }
   ],
   "source": [
    "### EXERCISE-4\n",
    "## Sort the train df by number of upvotes\n",
    "\n",
    "## Once sorted, show the top 30 rows for the following columns : Reputation, Answers, Views, Upvotes\n",
    "\n",
    "train_df.sort_values([\"Upvotes\"], ascending=False)[['Reputation', 'Answers', 'Views', 'Upvotes']].head(10)"
   ]
  },
  {
   "cell_type": "code",
   "execution_count": 11,
   "metadata": {},
   "outputs": [
    {
     "data": {
      "text/html": [
       "<div>\n",
       "<style scoped>\n",
       "    .dataframe tbody tr th:only-of-type {\n",
       "        vertical-align: middle;\n",
       "    }\n",
       "\n",
       "    .dataframe tbody tr th {\n",
       "        vertical-align: top;\n",
       "    }\n",
       "\n",
       "    .dataframe thead th {\n",
       "        text-align: right;\n",
       "    }\n",
       "</style>\n",
       "<table border=\"1\" class=\"dataframe\">\n",
       "  <thead>\n",
       "    <tr style=\"text-align: right;\">\n",
       "      <th></th>\n",
       "      <th>Reputation</th>\n",
       "      <th>Answers</th>\n",
       "      <th>Views</th>\n",
       "      <th>Upvotes</th>\n",
       "    </tr>\n",
       "  </thead>\n",
       "  <tbody>\n",
       "    <tr>\n",
       "      <td>98585</td>\n",
       "      <td>15272.0</td>\n",
       "      <td>32.0</td>\n",
       "      <td>5231058.0</td>\n",
       "      <td>144203.0</td>\n",
       "    </tr>\n",
       "    <tr>\n",
       "      <td>132439</td>\n",
       "      <td>48827.0</td>\n",
       "      <td>59.0</td>\n",
       "      <td>5004985.0</td>\n",
       "      <td>261157.0</td>\n",
       "    </tr>\n",
       "    <tr>\n",
       "      <td>168266</td>\n",
       "      <td>33705.0</td>\n",
       "      <td>66.0</td>\n",
       "      <td>4858537.0</td>\n",
       "      <td>153559.0</td>\n",
       "    </tr>\n",
       "    <tr>\n",
       "      <td>55806</td>\n",
       "      <td>90911.0</td>\n",
       "      <td>29.0</td>\n",
       "      <td>4417626.0</td>\n",
       "      <td>445709.0</td>\n",
       "    </tr>\n",
       "    <tr>\n",
       "      <td>251016</td>\n",
       "      <td>8774.0</td>\n",
       "      <td>19.0</td>\n",
       "      <td>3711920.0</td>\n",
       "      <td>29972.0</td>\n",
       "    </tr>\n",
       "    <tr>\n",
       "      <td>80083</td>\n",
       "      <td>8769.0</td>\n",
       "      <td>19.0</td>\n",
       "      <td>3711657.0</td>\n",
       "      <td>30271.0</td>\n",
       "    </tr>\n",
       "    <tr>\n",
       "      <td>281483</td>\n",
       "      <td>16203.0</td>\n",
       "      <td>27.0</td>\n",
       "      <td>3384984.0</td>\n",
       "      <td>48707.0</td>\n",
       "    </tr>\n",
       "    <tr>\n",
       "      <td>13514</td>\n",
       "      <td>19710.0</td>\n",
       "      <td>26.0</td>\n",
       "      <td>3328047.0</td>\n",
       "      <td>49840.0</td>\n",
       "    </tr>\n",
       "    <tr>\n",
       "      <td>145770</td>\n",
       "      <td>19710.0</td>\n",
       "      <td>26.0</td>\n",
       "      <td>3327855.0</td>\n",
       "      <td>29406.0</td>\n",
       "    </tr>\n",
       "    <tr>\n",
       "      <td>169813</td>\n",
       "      <td>7766.0</td>\n",
       "      <td>20.0</td>\n",
       "      <td>3146786.0</td>\n",
       "      <td>31249.0</td>\n",
       "    </tr>\n",
       "  </tbody>\n",
       "</table>\n",
       "</div>"
      ],
      "text/plain": [
       "        Reputation  Answers      Views   Upvotes\n",
       "98585      15272.0     32.0  5231058.0  144203.0\n",
       "132439     48827.0     59.0  5004985.0  261157.0\n",
       "168266     33705.0     66.0  4858537.0  153559.0\n",
       "55806      90911.0     29.0  4417626.0  445709.0\n",
       "251016      8774.0     19.0  3711920.0   29972.0\n",
       "80083       8769.0     19.0  3711657.0   30271.0\n",
       "281483     16203.0     27.0  3384984.0   48707.0\n",
       "13514      19710.0     26.0  3328047.0   49840.0\n",
       "145770     19710.0     26.0  3327855.0   29406.0\n",
       "169813      7766.0     20.0  3146786.0   31249.0"
      ]
     },
     "execution_count": 11,
     "metadata": {},
     "output_type": "execute_result"
    }
   ],
   "source": [
    "### EXERCISE-5\n",
    "## Try sorting the dataset by different numerical columns and see the results\n",
    "## Do you see any patterns in the data on how the upvotes are affected?\n",
    "\n",
    "train_df.sort_values([\"Views\"], ascending=False)[['Reputation', 'Answers', 'Views', 'Upvotes']].head(10)"
   ]
  },
  {
   "cell_type": "code",
   "execution_count": 12,
   "metadata": {},
   "outputs": [
    {
     "data": {
      "image/png": "[encoded data removed]",
      "text/plain": [
       "<Figure size 576x432 with 1 Axes>"
      ]
     },
     "metadata": {
      "needs_background": "light"
     },
     "output_type": "display_data"
    }
   ],
   "source": [
    "## If the naked eyes are not very helpful, try some scatter plots\n",
    "plt.figure(figsize=(8,6))\n",
    "plt.scatter(train_df[\"Views\"], train_df[\"Upvotes\"])\n",
    "plt.xlabel('Views', fontsize=12)\n",
    "plt.ylabel('upvotes', fontsize=12)\n",
    "plt.show()"
   ]
  },
  {
   "cell_type": "markdown",
   "metadata": {},
   "source": [
    "---\n",
    "\n",
    "#### ### Check the categorical distribution between train and test\n",
    "\n",
    "---"
   ]
  },
  {
   "cell_type": "code",
   "execution_count": 13,
   "metadata": {},
   "outputs": [
    {
     "data": {
      "text/plain": [
       "141802"
      ]
     },
     "execution_count": 13,
     "metadata": {},
     "output_type": "execute_result"
    }
   ],
   "source": [
    "### EXERCISE-6\n",
    "## Check whether there are any common usernames between train and test\n",
    "\n",
    "\n",
    "train_df['Username'].nunique()"
   ]
  },
  {
   "cell_type": "code",
   "execution_count": 14,
   "metadata": {},
   "outputs": [
    {
     "data": {
      "text/plain": [
       "79351"
      ]
     },
     "execution_count": 14,
     "metadata": {},
     "output_type": "execute_result"
    }
   ],
   "source": [
    "test_df[\"Username\"].nunique()"
   ]
  },
  {
   "cell_type": "code",
   "execution_count": 15,
   "metadata": {},
   "outputs": [
    {
     "data": {
      "text/plain": [
       "45414"
      ]
     },
     "execution_count": 15,
     "metadata": {},
     "output_type": "execute_result"
    }
   ],
   "source": [
    "len(set(test_df[\"Username\"].unique()).intersection(set(train_df[\"Username\"].unique())))"
   ]
  },
  {
   "cell_type": "code",
   "execution_count": 16,
   "metadata": {},
   "outputs": [
    {
     "data": {
      "image/png": "[encoded data removed]",
      "text/plain": [
       "<Figure size 864x576 with 1 Axes>"
      ]
     },
     "metadata": {
      "needs_background": "light"
     },
     "output_type": "display_data"
    }
   ],
   "source": [
    "### EXERCISE-7\n",
    "# ## Do a bar plot like of top 30 usernames (occured most) and have a look for train and test\n",
    "\n",
    "## on train data\n",
    "cnt_srs = train_df['Username'].value_counts().head(30)\n",
    "plt.figure(figsize=(12,8))\n",
    "sns.barplot(cnt_srs.index, cnt_srs.values, alpha=0.8)\n",
    "plt.ylabel('Number of Occurrences', fontsize=12)\n",
    "plt.xlabel('Tag', fontsize=12)\n",
    "plt.xticks(rotation=90)\n",
    "plt.show()"
   ]
  },
  {
   "cell_type": "code",
   "execution_count": 17,
   "metadata": {},
   "outputs": [
    {
     "data": {
      "image/png": "[encoded data removed]",
      "text/plain": [
       "<Figure size 864x576 with 1 Axes>"
      ]
     },
     "metadata": {
      "needs_background": "light"
     },
     "output_type": "display_data"
    }
   ],
   "source": [
    "## on test data \n",
    "cnt_srs = test_df['Username'].value_counts().head(30)\n",
    "plt.figure(figsize=(12,8))\n",
    "sns.barplot(cnt_srs.index, cnt_srs.values, alpha=0.8)\n",
    "plt.ylabel('Number of Occurrences', fontsize=12)\n",
    "plt.xlabel('Tag', fontsize=12)\n",
    "plt.xticks(rotation=90)\n",
    "plt.show()"
   ]
  },
  {
   "cell_type": "code",
   "execution_count": null,
   "metadata": {},
   "outputs": [],
   "source": []
  }
 ],
 "metadata": {
  "kernelspec": {
   "display_name": "Python 3",
   "language": "python",
   "name": "python3"
  },
  "language_info": {
   "codemirror_mode": {
    "name": "ipython",
    "version": 3
   },
   "file_extension": ".py",
   "mimetype": "text/x-python",
   "name": "python",
   "nbconvert_exporter": "python",
   "pygments_lexer": "ipython3",
   "version": "3.7.3"
  }
 },
 "nbformat": 4,
 "nbformat_minor": 2
}

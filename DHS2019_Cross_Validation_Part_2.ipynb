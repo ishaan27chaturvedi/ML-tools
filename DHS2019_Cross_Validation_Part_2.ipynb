{
 "cells": [
  {
   "cell_type": "markdown",
   "metadata": {},
   "source": [
    "---\n",
    "---\n",
    "\n",
    "## DHS2019_Cross_Validation_Part_2\n",
    "\n",
    "---\n",
    "\n",
    "\n",
    "\n",
    "\n",
    "#### PROBLEM STATEMENT\n",
    "\n",
    "Recent years have witnessed a surge in the number of internet savvy users. Companies in the financial services domain leverage this huge internet traffic arriving at their interface by strategically placing ads/promotions for cross selling of various financial products on a plethora of web pages. The digital analytics unit of Best Cards Company uses cutting edge data science and machine learning for successful promotion of its valuable card products. They believe that a predictive model that forecasts whether a session involves a click on the ad/promotion would help them extract the maximum out of the huge clickstream data that they have collected. You are hired as a consultant to build an efficient model to predict whether a user will click on an ad or not, given the following features:\n",
    "\n",
    "   - Clickstream data/train data for duration: (2nd July 2017 – 7th July 2017)\n",
    "   - Test data for duration: (8th July 2017 – 9th July 2017)\n",
    "   - User features (demographics, user behaviour/activity, buying power etc.)\n",
    "   - Historical transactional data of the previous month with timestamp info (28th May 2017– 1st July 2017). This data contains actions (views/interest registered) taken by the user historically on the product page via an ad or other sources\n",
    "   - Ad features (product category, webpage, campaign for ad etc.)\n",
    "   - Date time features (exact timestamp of the user session)\n",
    "   \n",
    "   \n",
    "---\n",
    "\n",
    "\n",
    "***DATASET URL: https://datahack.analyticsvidhya.com/contest/workshop_amexpert-2018-machine-learning-hackathon/***"
   ]
  },
  {
   "cell_type": "code",
   "execution_count": 2,
   "metadata": {},
   "outputs": [],
   "source": [
    "import numpy as np\n",
    "import pandas as pd\n",
    "import datetime\n",
    "import matplotlib.pyplot as plt\n",
    "import seaborn as sns\n",
    "from sklearn import preprocessing, model_selection, metrics\n",
    "%matplotlib inline"
   ]
  },
  {
   "cell_type": "code",
   "execution_count": 3,
   "metadata": {},
   "outputs": [
    {
     "name": "stdout",
     "output_type": "stream",
     "text": [
      "(92658, 15) (128858, 14)\n"
     ]
    }
   ],
   "source": [
    "train_df = pd.read_csv(\"dataset/train_sample.csv\", parse_dates=[\"DateTime\"])\n",
    "test_df = pd.read_csv(\"dataset/test_sample.csv\", parse_dates=[\"DateTime\"])\n",
    "print(train_df.shape, test_df.shape)"
   ]
  },
  {
   "cell_type": "code",
   "execution_count": 4,
   "metadata": {},
   "outputs": [],
   "source": [
    "train_df[\"Date\"] = train_df[\"DateTime\"].dt.date\n",
    "test_df[\"Date\"] = test_df[\"DateTime\"].dt.date"
   ]
  },
  {
   "cell_type": "code",
   "execution_count": 5,
   "metadata": {},
   "outputs": [
    {
     "data": {
      "image/png": "[encoded data removed]",
      "text/plain": [
       "<Figure size 864x432 with 1 Axes>"
      ]
     },
     "metadata": {
      "needs_background": "light"
     },
     "output_type": "display_data"
    }
   ],
   "source": [
    "plt.figure(figsize=(12,6))\n",
    "sns.countplot(data=train_df, x=\"Date\", alpha=0.8)\n",
    "plt.xticks(rotation='vertical')\n",
    "plt.xlabel(\"Date\")\n",
    "plt.ylabel(\"Count\")\n",
    "plt.title(\"Date wise count in train\")\n",
    "plt.show()"
   ]
  },
  {
   "cell_type": "code",
   "execution_count": 6,
   "metadata": {},
   "outputs": [
    {
     "data": {
      "image/png": "[encoded data removed]",
      "text/plain": [
       "<Figure size 864x432 with 1 Axes>"
      ]
     },
     "metadata": {
      "needs_background": "light"
     },
     "output_type": "display_data"
    }
   ],
   "source": [
    "plt.figure(figsize=(12,6))\n",
    "sns.countplot(data=test_df, x=\"Date\", alpha=0.8)\n",
    "plt.xticks(rotation='vertical')\n",
    "plt.xlabel(\"Date\")\n",
    "plt.ylabel(\"Count\")\n",
    "plt.title(\"Date wise count in test\")\n",
    "plt.show()"
   ]
  },
  {
   "cell_type": "markdown",
   "metadata": {},
   "source": [
    "## Cross Validation\n",
    "\n",
    "\n",
    "#### Train - Test split\n",
    "\n",
    "Do a dev - val split from train sample."
   ]
  },
  {
   "cell_type": "code",
   "execution_count": 7,
   "metadata": {},
   "outputs": [
    {
     "name": "stdout",
     "output_type": "stream",
     "text": [
      "Dev dates :  [datetime.date(2017, 7, 5), datetime.date(2017, 7, 4), datetime.date(2017, 7, 3), datetime.date(2017, 7, 2)]\n",
      "Val dates :  [datetime.date(2017, 7, 7), datetime.date(2017, 7, 6)]\n"
     ]
    }
   ],
   "source": [
    "### EXERCISE-1\n",
    "dev_dates = [datetime.date(2017, 7, 2), datetime.date(2017, 7, 3),\n",
    "       datetime.date(2017, 7, 4), datetime.date(2017, 7, 5)]\n",
    "val_dates = [datetime.date(2017, 7, 6), datetime.date(2017, 7, 7)]\n",
    "\n",
    "dev_df = train_df[train_df[\"Date\"].isin(dev_dates)]\n",
    "val_df = train_df[train_df[\"Date\"].isin(val_dates)]\n",
    "\n",
    "print(\"Dev dates : \",list(dev_df[\"Date\"].unique()))\n",
    "print(\"Val dates : \",list(val_df[\"Date\"].unique()))"
   ]
  },
  {
   "cell_type": "markdown",
   "metadata": {},
   "source": [
    "---\n",
    "\n",
    "#### KFold cross validation\n",
    "\n",
    "Do a k-fold cross validation split for the dataset.\n",
    "\n",
    "Which K-value do you choose?\n",
    "\n",
    "---"
   ]
  },
  {
   "cell_type": "code",
   "execution_count": 8,
   "metadata": {},
   "outputs": [
    {
     "name": "stdout",
     "output_type": "stream",
     "text": [
      "Dev dates :  [datetime.date(2017, 7, 7), datetime.date(2017, 7, 6), datetime.date(2017, 7, 5), datetime.date(2017, 7, 4), datetime.date(2017, 7, 3)]\n",
      "Val dates :  [datetime.date(2017, 7, 2)]\n",
      "\n",
      "Dev dates :  [datetime.date(2017, 7, 7), datetime.date(2017, 7, 6), datetime.date(2017, 7, 5), datetime.date(2017, 7, 4), datetime.date(2017, 7, 2)]\n",
      "Val dates :  [datetime.date(2017, 7, 3)]\n",
      "\n",
      "Dev dates :  [datetime.date(2017, 7, 7), datetime.date(2017, 7, 6), datetime.date(2017, 7, 5), datetime.date(2017, 7, 3), datetime.date(2017, 7, 2)]\n",
      "Val dates :  [datetime.date(2017, 7, 4)]\n",
      "\n",
      "Dev dates :  [datetime.date(2017, 7, 7), datetime.date(2017, 7, 6), datetime.date(2017, 7, 4), datetime.date(2017, 7, 3), datetime.date(2017, 7, 2)]\n",
      "Val dates :  [datetime.date(2017, 7, 5)]\n",
      "\n",
      "Dev dates :  [datetime.date(2017, 7, 7), datetime.date(2017, 7, 5), datetime.date(2017, 7, 4), datetime.date(2017, 7, 3), datetime.date(2017, 7, 2)]\n",
      "Val dates :  [datetime.date(2017, 7, 6)]\n",
      "\n",
      "Dev dates :  [datetime.date(2017, 7, 6), datetime.date(2017, 7, 5), datetime.date(2017, 7, 4), datetime.date(2017, 7, 3), datetime.date(2017, 7, 2)]\n",
      "Val dates :  [datetime.date(2017, 7, 7)]\n",
      "\n"
     ]
    }
   ],
   "source": [
    "### EXERCISE-2\n",
    "dates = [datetime.date(2017, 7, 2), datetime.date(2017, 7, 3),\n",
    "         datetime.date(2017, 7, 4), datetime.date(2017, 7, 5),\n",
    "         datetime.date(2017, 7, 6), datetime.date(2017, 7, 7)]\n",
    "\n",
    "for date in dates:\n",
    "    dev_df = train_df[train_df[\"Date\"] != date]\n",
    "    val_df = train_df[train_df[\"Date\"] == date]\n",
    "    \n",
    "    print(\"Dev dates : \",list(dev_df[\"Date\"].unique()))\n",
    "    print(\"Val dates : \",list(val_df[\"Date\"].unique()))\n",
    "    print()"
   ]
  },
  {
   "cell_type": "code",
   "execution_count": null,
   "metadata": {},
   "outputs": [],
   "source": []
  }
 ],
 "metadata": {
  "kernelspec": {
   "display_name": "Python 3",
   "language": "python",
   "name": "python3"
  },
  "language_info": {
   "codemirror_mode": {
    "name": "ipython",
    "version": 3
   },
   "file_extension": ".py",
   "mimetype": "text/x-python",
   "name": "python",
   "nbconvert_exporter": "python",
   "pygments_lexer": "ipython3",
   "version": "3.7.3"
  }
 },
 "nbformat": 4,
 "nbformat_minor": 2
}
